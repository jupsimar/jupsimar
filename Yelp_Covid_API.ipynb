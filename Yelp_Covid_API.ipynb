{
  "nbformat": 4,
  "nbformat_minor": 0,
  "metadata": {
    "colab": {
      "name": "Yelp_Covid_API.ipynb",
      "provenance": [],
      "include_colab_link": true
    },
    "kernelspec": {
      "name": "python3",
      "display_name": "Python 3"
    },
    "language_info": {
      "name": "python"
    }
  },
  "cells": [
    {
      "cell_type": "markdown",
      "metadata": {
        "id": "view-in-github",
        "colab_type": "text"
      },
      "source": [
        "<a href=\"https://colab.research.google.com/github/jupsimar/jupsimar/blob/main/Yelp_Covid_API.ipynb\" target=\"_parent\"><img src=\"https://colab.research.google.com/assets/colab-badge.svg\" alt=\"Open In Colab\"/></a>"
      ]
    },
    {
      "cell_type": "markdown",
      "metadata": {
        "id": "ieuZol51HYc_"
      },
      "source": [
        ""
      ]
    },
    {
      "cell_type": "code",
      "metadata": {
        "id": "D-_5ucwCHUQx"
      },
      "source": [
        "# importing the libraries"
      ],
      "execution_count": null,
      "outputs": []
    },
    {
      "cell_type": "markdown",
      "metadata": {
        "id": "RcaWXSwqHayn"
      },
      "source": [
        "# working with COVID data"
      ]
    },
    {
      "cell_type": "code",
      "metadata": {
        "id": "8Yz-lJjSHeUC"
      },
      "source": [
        "#endpoint\n",
        "url ='https://api.covid19api.com/summary'"
      ],
      "execution_count": null,
      "outputs": []
    },
    {
      "cell_type": "markdown",
      "metadata": {
        "id": "vJNInpO7Ht_D"
      },
      "source": [
        "# working with Yelp Data"
      ]
    },
    {
      "cell_type": "markdown",
      "metadata": {
        "id": "7NLAlD22I5UR"
      },
      "source": [
        "you will need to have your api token stored on Google Drive to connect to yelp"
      ]
    },
    {
      "cell_type": "code",
      "metadata": {
        "id": "IfPoKL9qH1zA"
      },
      "source": [
        "api_url = 'https://api.yelp.com/v3/businesses/search'"
      ],
      "execution_count": null,
      "outputs": []
    }
  ]
}